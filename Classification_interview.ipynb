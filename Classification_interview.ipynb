{
  "nbformat": 4,
  "nbformat_minor": 0,
  "metadata": {
    "colab": {
      "provenance": [],
      "authorship_tag": "ABX9TyMM0kJdAd1nw8UPapyNT6ha",
      "include_colab_link": true
    },
    "kernelspec": {
      "name": "python3",
      "display_name": "Python 3"
    },
    "language_info": {
      "name": "python"
    }
  },
  "cells": [
    {
      "cell_type": "markdown",
      "metadata": {
        "id": "view-in-github",
        "colab_type": "text"
      },
      "source": [
        "<a href=\"https://colab.research.google.com/github/DanieleCecca/Interview-ArgoVision/blob/master/Classification_interview.ipynb\" target=\"_parent\"><img src=\"https://colab.research.google.com/assets/colab-badge.svg\" alt=\"Open In Colab\"/></a>"
      ]
    },
    {
      "cell_type": "markdown",
      "source": [
        "# Classificazione Animali"
      ],
      "metadata": {
        "id": "E_qOcdlTC1fc"
      }
    },
    {
      "cell_type": "markdown",
      "source": [
        "## Import and enironment setup"
      ],
      "metadata": {
        "id": "MB846hDlBb02"
      }
    },
    {
      "cell_type": "code",
      "execution_count": 1,
      "metadata": {
        "id": "nwX_Ii_OBWdJ"
      },
      "outputs": [],
      "source": [
        "!pip install opencv-python -q"
      ]
    },
    {
      "cell_type": "code",
      "source": [
        "import cv2"
      ],
      "metadata": {
        "id": "dTQdybujFA2g"
      },
      "execution_count": 2,
      "outputs": []
    }
  ]
}